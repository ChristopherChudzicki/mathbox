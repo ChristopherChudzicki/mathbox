{
 "cells": [
  {
   "cell_type": "markdown",
   "metadata": {},
   "source": [
    "# Jupyter meets MathBox2\n",
    "\n",
    "Apart from being a standalone mathematical visualization libary\n",
    "MathBox2 can be used as a powerful data presentation tool in\n",
    "variuos data analysis pipelines. \n",
    "\n",
    "This notebook contains a few examples of embedded MathBox2 plots."
   ]
  },
  {
   "cell_type": "code",
   "execution_count": 33,
   "metadata": {
    "collapsed": false
   },
   "outputs": [],
   "source": [
    "import json\n",
    "import numpy as np\n",
    "from IPython.display import HTML, Javascript, display"
   ]
  },
  {
   "cell_type": "code",
   "execution_count": 34,
   "metadata": {
    "collapsed": true
   },
   "outputs": [],
   "source": [
    "def json_numpy_serialzer(o):\n",
    "    if isinstance(o, np.ndarray):\n",
    "        return o.tolist()\n",
    "    raise TypeError(\"{} of type {} is not JSON serializable\".format(repr(o), type(o)))\n",
    "\n",
    "def jsglobal(**params):\n",
    "    '''Populate JS global namespace with provided Python obejcts.'''\n",
    "    code = [];\n",
    "    for name, value in params.items():\n",
    "        jsdata = json.dumps(value, default=json_numpy_serialzer)\n",
    "        code.append(\"window.{} = {};\".format(name, jsdata))\n",
    "    display(Javascript(\"\\n\".join(code)))"
   ]
  },
  {
   "cell_type": "code",
   "execution_count": 35,
   "metadata": {
    "collapsed": false
   },
   "outputs": [
    {
     "data": {
      "application/javascript": [
       "\n",
       "require.config({\n",
       "    paths: {\n",
       "        mathBox: '//cdn.rawgit.com/unconed/mathbox/eaeb8e15/build/mathbox-bundle'\n",
       "        //mathBox: '//localhost:8000/build/mathbox-bundle'\n",
       "    }\n",
       "});\n",
       "\n",
       "window.with_mathbox = function(element, func) {\n",
       "    require(['mathBox'], function(){\n",
       "        var mathbox = mathBox({\n",
       "          plugins: ['core', 'controls', 'cursor', 'mathbox'],\n",
       "          controls: { klass: THREE.OrbitControls },\n",
       "          mathbox: {inspect: false},\n",
       "          element: element[0],\n",
       "        });\n",
       "        var three = mathbox.three;\n",
       "        three.renderer.setClearColor(new THREE.Color(0xFFFFFF), 1.0);\n",
       "        three.camera.position.set(-1, 1, 2);\n",
       "        three.controls.noKeys = true;\n",
       "        \n",
       "        element[0].style.height = \"400px\";\n",
       "        element[0].style.width = \"100%\";\n",
       "        window.dispatchEvent(new Event('resize'));\n",
       "        \n",
       "        func(mathbox);\n",
       "    })\n",
       "}"
      ],
      "text/plain": [
       "<IPython.core.display.Javascript object>"
      ]
     },
     "metadata": {},
     "output_type": "display_data"
    }
   ],
   "source": [
    "%%javascript\n",
    "\n",
    "require.config({\n",
    "    paths: {\n",
    "        mathBox: '//cdn.rawgit.com/unconed/mathbox/eaeb8e15/build/mathbox-bundle'\n",
    "        //mathBox: '//localhost:8000/build/mathbox-bundle'\n",
    "    }\n",
    "});\n",
    "\n",
    "window.with_mathbox = function(element, func) {\n",
    "    require(['mathBox'], function(){\n",
    "        var mathbox = mathBox({\n",
    "          plugins: ['core', 'controls', 'cursor', 'mathbox'],\n",
    "          controls: { klass: THREE.OrbitControls },\n",
    "          mathbox: {inspect: false},\n",
    "          element: element[0],\n",
    "        });\n",
    "        var three = mathbox.three;\n",
    "        three.renderer.setClearColor(new THREE.Color(0xFFFFFF), 1.0);\n",
    "        three.camera.position.set(-1, 1, 2);\n",
    "        three.controls.noKeys = true;\n",
    "        \n",
    "        element[0].style.height = \"400px\";\n",
    "        element[0].style.width = \"100%\";\n",
    "        window.dispatchEvent(new Event('resize'));\n",
    "        \n",
    "        func(mathbox);\n",
    "    })\n",
    "}"
   ]
  },
  {
   "cell_type": "code",
   "execution_count": 36,
   "metadata": {
    "collapsed": false
   },
   "outputs": [
    {
     "data": {
      "application/javascript": [
       "with_mathbox(element, function(mathbox) {\n",
       "   mathbox.cartesian()\n",
       "     .area({width:50, height:50,\n",
       "            expr: function(emit, x, y, i, j, t){\n",
       "              var r = Math.sqrt(x*x+y*y);\n",
       "              var z = Math.sin(r*10-t*0.5)*0.2;\n",
       "              emit(x, z, y);\n",
       "           }})\n",
       "     .surface({color:'#AAA', shaded:true})\n",
       "     .surface({color:'#55A', lineX:true, lineY:true, fill:false, zBias:1});\n",
       "})"
      ],
      "text/plain": [
       "<IPython.core.display.Javascript object>"
      ]
     },
     "metadata": {},
     "output_type": "display_data"
    }
   ],
   "source": [
    "%%javascript\n",
    "with_mathbox(element, function(mathbox) {\n",
    "   mathbox.cartesian()\n",
    "     .area({width:50, height:50,\n",
    "            expr: function(emit, x, y, i, j, t){\n",
    "              var r = Math.sqrt(x*x+y*y);\n",
    "              var z = Math.sin(r*10-t*0.5)*0.2;\n",
    "              emit(x, z, y);\n",
    "           }})\n",
    "     .surface({color:'#AAA', shaded:true})\n",
    "     .surface({color:'#55A', lineX:true, lineY:true, fill:false, zBias:1});\n",
    "})"
   ]
  },
  {
   "cell_type": "code",
   "execution_count": 37,
   "metadata": {
    "collapsed": false
   },
   "outputs": [
    {
     "data": {
      "application/javascript": [
       "with_mathbox(element, function(mathbox) {\n",
       "  element[0].style.height = '600px';\n",
       "  mathbox.cartesian().grid({width: 2, opacity: 0.5, axes: [1, 3], origin: [0, -1, 0]});\n",
       "\n",
       "  var view = mathbox.stereographic4({position:[0, 0, 0], scale:[0.5, 0.5, 0.5]});\n",
       "\n",
       "  var edges = [];\n",
       "  var points = []\n",
       "  for (var e=-1; e<2; e+=2)\n",
       "  for (var i=-1; i<2; i+=2)\n",
       "  for (var j=-1; j<2; j+=2)\n",
       "  for (var k=-1; k<2; k+=2) {\n",
       "    edges.push([i, j, k, e])\n",
       "    edges.push([i, j, e, k])\n",
       "    edges.push([i, e, j, k])\n",
       "    edges.push([e, i, j, k])\n",
       "    points.push([i, j, k, e])\n",
       "  }\n",
       "\n",
       "  view.matrix({width:edges.length/2, height:2, data:edges, live: false})\n",
       "  .transpose({order:\"yx\", id:\"edges\"})\n",
       "  .array({data:points, id:\"points\"})\n",
       "  .clock({speed:0.25})\n",
       "  .transform4({}, {matrix:function(t) {\n",
       "     var c = Math.cos(t), s = Math.sin(t);\n",
       "     return [c, 0, 0,-s,\n",
       "             0, 1, 0, 0,\n",
       "             0, 0, 1, 0,\n",
       "             s, 0, 0, c];\n",
       "     }})  \n",
       "    .point({size:8, points:\"#points\"})\n",
       "    .format({live:false, expr:(x, y, z, w)=>{\n",
       "      return x+\", \"+y+\", \"+z+\", \"+w;\n",
       "    }}).label({size:16, depth:0.5, outline:0.5})\n",
       "    .lerp({width:32, source:\"#edges\"})\n",
       "    .line({color:0x3090FF, depth:1.0, width:4});\n",
       "})"
      ],
      "text/plain": [
       "<IPython.core.display.Javascript object>"
      ]
     },
     "metadata": {},
     "output_type": "display_data"
    }
   ],
   "source": [
    "%%javascript\n",
    "with_mathbox(element, function(mathbox) {\n",
    "  element[0].style.height = '600px';\n",
    "  mathbox.cartesian().grid({width: 2, opacity: 0.5, axes: [1, 3], origin: [0, -1, 0]});\n",
    "\n",
    "  var view = mathbox.stereographic4({position:[0, 0, 0], scale:[0.5, 0.5, 0.5]});\n",
    "\n",
    "  var edges = [];\n",
    "  var points = []\n",
    "  for (var e=-1; e<2; e+=2)\n",
    "  for (var i=-1; i<2; i+=2)\n",
    "  for (var j=-1; j<2; j+=2)\n",
    "  for (var k=-1; k<2; k+=2) {\n",
    "    edges.push([i, j, k, e])\n",
    "    edges.push([i, j, e, k])\n",
    "    edges.push([i, e, j, k])\n",
    "    edges.push([e, i, j, k])\n",
    "    points.push([i, j, k, e])\n",
    "  }\n",
    "\n",
    "  view.matrix({width:edges.length/2, height:2, data:edges, live: false})\n",
    "  .transpose({order:\"yx\", id:\"edges\"})\n",
    "  .array({data:points, id:\"points\"})\n",
    "  .clock({speed:0.25})\n",
    "  .transform4({}, {matrix:function(t) {\n",
    "     var c = Math.cos(t), s = Math.sin(t);\n",
    "     return [c, 0, 0,-s,\n",
    "             0, 1, 0, 0,\n",
    "             0, 0, 1, 0,\n",
    "             s, 0, 0, c];\n",
    "     }})  \n",
    "    .point({size:8, points:\"#points\"})\n",
    "    .format({live:false, expr:(x, y, z, w)=>{\n",
    "      return x+\", \"+y+\", \"+z+\", \"+w;\n",
    "    }}).label({size:16, depth:0.5, outline:0.5})\n",
    "    .lerp({width:32, source:\"#edges\"})\n",
    "    .line({color:0x3090FF, depth:1.0, width:4});\n",
    "})"
   ]
  },
  {
   "cell_type": "code",
   "execution_count": null,
   "metadata": {
    "collapsed": true
   },
   "outputs": [],
   "source": []
  }
 ],
 "metadata": {
  "kernelspec": {
   "display_name": "Python 2",
   "language": "python",
   "name": "python2"
  },
  "language_info": {
   "codemirror_mode": {
    "name": "ipython",
    "version": 2
   },
   "file_extension": ".py",
   "mimetype": "text/x-python",
   "name": "python",
   "nbconvert_exporter": "python",
   "pygments_lexer": "ipython2",
   "version": "2.7.13"
  }
 },
 "nbformat": 4,
 "nbformat_minor": 0
}
